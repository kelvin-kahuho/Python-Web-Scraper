{
  "nbformat": 4,
  "nbformat_minor": 0,
  "metadata": {
    "colab": {
      "provenance": [],
      "authorship_tag": "ABX9TyNh93Rk0fsOfw9UH2vhG91u",
      "include_colab_link": true
    },
    "kernelspec": {
      "name": "python3",
      "display_name": "Python 3"
    },
    "language_info": {
      "name": "python"
    }
  },
  "cells": [
    {
      "cell_type": "markdown",
      "metadata": {
        "id": "view-in-github",
        "colab_type": "text"
      },
      "source": [
        "<a href=\"https://colab.research.google.com/github/kelvin-kahuho/Python-Web-Scraper/blob/main/Python_Web_Scraper.ipynb\" target=\"_parent\"><img src=\"https://colab.research.google.com/assets/colab-badge.svg\" alt=\"Open In Colab\"/></a>"
      ]
    },
    {
      "cell_type": "markdown",
      "source": [
        "**Python is a popular language for web scraping due to its ease of use and a wide range of libraries and frameworks available for this purpose.**"
      ],
      "metadata": {
        "id": "1Um8CIfQgcsx"
      }
    },
    {
      "cell_type": "markdown",
      "source": [
        "- requests: Used to make HTTP requests to a website and retrieve the HTML content.\n",
        "\n",
        "- BeautifulSoup4: A library for parsing HTML and XML documents, making it easier to extract data."
      ],
      "metadata": {
        "id": "Bj3QNGwWhnpc"
      }
    },
    {
      "cell_type": "code",
      "execution_count": 1,
      "metadata": {
        "colab": {
          "base_uri": "https://localhost:8080/"
        },
        "id": "tG6j9meygHrd",
        "outputId": "c857c49a-0951-4d23-c2f6-534f35afbfa2"
      },
      "outputs": [
        {
          "output_type": "stream",
          "name": "stdout",
          "text": [
            "Requirement already satisfied: requests in /usr/local/lib/python3.10/dist-packages (2.31.0)\n",
            "Requirement already satisfied: BeautifulSoup4 in /usr/local/lib/python3.10/dist-packages (4.11.2)\n",
            "Requirement already satisfied: charset-normalizer<4,>=2 in /usr/local/lib/python3.10/dist-packages (from requests) (3.2.0)\n",
            "Requirement already satisfied: idna<4,>=2.5 in /usr/local/lib/python3.10/dist-packages (from requests) (3.4)\n",
            "Requirement already satisfied: urllib3<3,>=1.21.1 in /usr/local/lib/python3.10/dist-packages (from requests) (2.0.4)\n",
            "Requirement already satisfied: certifi>=2017.4.17 in /usr/local/lib/python3.10/dist-packages (from requests) (2023.7.22)\n",
            "Requirement already satisfied: soupsieve>1.2 in /usr/local/lib/python3.10/dist-packages (from BeautifulSoup4) (2.5)\n"
          ]
        }
      ],
      "source": [
        "pip install requests BeautifulSoup4\n"
      ]
    },
    {
      "cell_type": "code",
      "source": [
        "# import the required libraries\n",
        "import requests\n",
        "from bs4 import BeautifulSoup\n"
      ],
      "metadata": {
        "id": "7gu8QbTEgqvu"
      },
      "execution_count": 2,
      "outputs": []
    },
    {
      "cell_type": "markdown",
      "source": [
        "Use the requests library to send an HTTP GET request to the website you want to scrape"
      ],
      "metadata": {
        "id": "8vh_JKjHh8k_"
      }
    },
    {
      "cell_type": "code",
      "source": [
        "url = 'https://google.com'\n",
        "response = requests.get(url)\n"
      ],
      "metadata": {
        "id": "xfCXmECrgvWK"
      },
      "execution_count": 3,
      "outputs": []
    },
    {
      "cell_type": "markdown",
      "source": [
        "Use BeautifulSoup to parse the HTML content of the web page"
      ],
      "metadata": {
        "id": "TPg6_332h_53"
      }
    },
    {
      "cell_type": "code",
      "source": [
        "soup = BeautifulSoup(response.text, 'html.parser')\n"
      ],
      "metadata": {
        "id": "4cy67LdCg49u"
      },
      "execution_count": 4,
      "outputs": []
    },
    {
      "cell_type": "markdown",
      "source": [
        "Use the BeautifulSoup methods to locate the data you want to extract. You can use HTML tags, attributes, and CSS selectors to navigate the HTML structure and find the data of interest."
      ],
      "metadata": {
        "id": "YdqSeTCniH2M"
      }
    },
    {
      "cell_type": "code",
      "source": [
        "links = soup.find_all('a')\n",
        "for link in links:\n",
        "    print(link.get('href'))\n"
      ],
      "metadata": {
        "colab": {
          "base_uri": "https://localhost:8080/"
        },
        "id": "zgurbkszhICw",
        "outputId": "8ab198ea-72fb-4fb4-c149-8ae8b7c1fb0d"
      },
      "execution_count": 5,
      "outputs": [
        {
          "output_type": "stream",
          "name": "stdout",
          "text": [
            "https://www.google.com/imghp?hl=en&tab=wi\n",
            "https://maps.google.com/maps?hl=en&tab=wl\n",
            "https://play.google.com/?hl=en&tab=w8\n",
            "https://www.youtube.com/?tab=w1\n",
            "https://news.google.com/?tab=wn\n",
            "https://mail.google.com/mail/?tab=wm\n",
            "https://drive.google.com/?tab=wo\n",
            "https://www.google.com/intl/en/about/products?tab=wh\n",
            "http://www.google.com/history/optout?hl=en\n",
            "/preferences?hl=en\n",
            "https://accounts.google.com/ServiceLogin?hl=en&passive=true&continue=https://www.google.com/&ec=GAZAAQ\n",
            "/advanced_search?hl=en&authuser=0\n",
            "/intl/en/ads/\n",
            "/services/\n",
            "/intl/en/about.html\n",
            "/intl/en/policies/privacy/\n",
            "/intl/en/policies/terms/\n"
          ]
        }
      ]
    }
  ]
}